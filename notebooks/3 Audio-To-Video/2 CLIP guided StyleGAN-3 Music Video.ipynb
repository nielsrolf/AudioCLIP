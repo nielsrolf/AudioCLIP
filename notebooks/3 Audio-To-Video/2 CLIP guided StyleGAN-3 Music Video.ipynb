{
  "nbformat": 4,
  "nbformat_minor": 0,
  "metadata": {
    "accelerator": "GPU",
    "colab": {
      "name": "2 CLIP Guided StyleGAN-3 Dream",
      "private_outputs": true,
      "provenance": [],
      "collapsed_sections": [],
      "machine_shape": "hm"
    },
    "kernelspec": {
      "display_name": "Python 3",
      "name": "python3"
    },
    "language_info": {
      "name": "python"
    }
  },
  "cells": [
    {
      "cell_type": "markdown",
      "metadata": {
        "id": "bJOj_BWi_JwR"
      },
      "source": [
        "Generate a music video that is a latent space interpolation of stylegan3 - you define a story in form of a list of prompts, from these prompts, we generate images, and then interpolate between them in the rythm of the music.\n",
        "\n",
        "By [nielsrolf](github.com/nielsrolf) inspired by [mikaelalafriz's](https://github.com/mikaelalafriz) [lucid-sonic-dreams](https://github.com/mikaelalafriz/lucid-sonic-dreams), using [StyleGAN-3](https://github.com/NVlabs/stylegan3) by NVidia and OpenAIs [CLIP](https://github.com/openai/CLIP), with code for finding the latent points that tell the story taken from nshepperd and Katherine Crowson."
      ]
    },
    {
      "cell_type": "code",
      "metadata": {
        "id": "SW1JQY3bIpCf"
      },
      "source": [
        "# Topic that the video starts with\n",
        "story = \"Night sky->Sunrise in Athens->An antique Greek statue->A beauitful woman->Love->A broken heart->A man crying->A creepy psychedelic experience->Death and destroyment->Darkness\" #@param {type: \"string\"}\n",
        "\n",
        "text_prompt_bass = 'Mysterious and deep, violet' #@param {type: \"string\"}\n",
        "text_prompt_treble = \"Dreamy and warm, full of love - trending on ArtStation\" #@param {type: \"string\"}\n",
        "text_prompt_mids = \"\" #@param {type: \"string\"}\n",
        "\n",
        "style_suffix = \"trending on ArtStation\" #@param {type: \"string\"}\n",
        "\n",
        "\n",
        "# How much of a puslating effect the bass creates. A bass sound moves to the text_prompt_bass and moves back once it is released\n",
        "bass_pulse_impact = 0.06 #@param {type: \"number\"}\n",
        "# How much of a puslating effect the mids create. A mid sound moves to the text_prompt_mids and moves back once it is released\n",
        "mids_pulse_impact = 0 #@param {type: \"number\"}\n",
        "# How much of a puslating effect a high pitched sound creates. A treble sound moves to the text_prompt_trebles and moves back once it is released\n",
        "trebles_pulse_impact = 0.1 #@param {type: \"number\"}\n",
        "\n",
        "# How much the bass pushes the story forward\n",
        "bass_story_speed = 1 #@param {type: \"number\"}\n",
        "# How much the mids push the story forward\n",
        "mids_story_speed = 1 #@param {type: \"number\"}\n",
        "# How much the trebles push the story forward\n",
        "trebles_story_speed = 0 #@param {type: \"number\"}\n",
        "\n",
        "\n",
        "# It can take quite long to generate a 6min video, use these inputs to make the video shorter\n",
        "start_second =  0#@param {type: \"number\"}\n",
        "end_second = 360 #@param {type: \"number\"}\n",
        "\n",
        "# Music upload\n",
        "audio_file = \"\" #@param {type: \"string\"}\n",
        "\n",
        "# alternative link to youtube or soundcloud\n",
        "youtube_dl_link = \"https://soundcloud.com/lautundluise/christopher-schwarzwalder-das\" #@param {type: \"string\"}\n",
        "\n",
        "# Speed at which to try approximating the text. Too fast seems to give strange results. Maximum is 100.\n",
        "speed = 20  #@param {type: \"number\"}\n",
        "\n",
        "# Change the seed to generate variations of the same prompt \n",
        "seed = 244 #@param {type: \"number\"}\n",
        "\n",
        "# Model type to use.\n",
        "model = 'Landscapes'  #@param ['Painted Faces', 'Animal Faces', 'Flickr Faces', 'Wiki Art', 'Landscapes']\n",
        "\n",
        "\n",
        "model_map = {\n",
        "    'Painted Faces': 'stylegan3-r-metfacesu-1024x1024.pkl', \n",
        "    'Animal Faces': 'https://api.ngc.nvidia.com/v2/models/nvidia/research/stylegan3/versions/1/files/stylegan3-r-afhqv2-512x512.pkl', \n",
        "    'Flickr Faces': 'https://api.ngc.nvidia.com/v2/models/nvidia/research/stylegan3/versions/1/files/stylegan3-r-ffhqu-1024x1024.pkl',\n",
        "    'Wiki Art': 'https://pollinations.ai/ipfs/QmdxNyN5pDbaesaXbaBtEGGitks4nyaXCDH8cnwWjyivEx/wikiart-1024-stylegan3-t-17.2Mimg.pkl',\n",
        "    'Landscapes': 'https://ipfs.io/ipfs/QmZkrYwEUnykVQJfJw3opTj1HfdNUCm87amsR3LHp1QnuV/lhq-256-stylegan3-t-25Mimg.pkl'\n",
        "}\n",
        "\n",
        "\n",
        "output_path = \"/content/output\"\n",
        "\n",
        "steps = 150\n",
        "\n",
        "#@markdown ---\n",
        "\n",
        "\n"
      ],
      "execution_count": null,
      "outputs": []
    },
    {
      "cell_type": "code",
      "metadata": {
        "id": "FOdjeLj1oTWB"
      },
      "source": [
        "prompts = story.split(\"->\")\n",
        "prompts = [f\"{prompt} - {style_suffix}\" if prompt!=\"\" else \"\" for prompt in prompts]\n",
        "prompts"
      ],
      "execution_count": null,
      "outputs": []
    },
    {
      "cell_type": "code",
      "metadata": {
        "id": "Y18ByZlYDhtB"
      },
      "source": [
        "model_url = model_map[model]\n",
        "smoothing = (100.0-speed)/100.0\n",
        "\n",
        "summed_speed = bass_story_speed + mids_story_speed + trebles_story_speed\n",
        "bass_story_speed /= summed_speed\n",
        "mids_story_speed /= summed_speed\n",
        "trebles_story_speed /= summed_speed"
      ],
      "execution_count": null,
      "outputs": []
    },
    {
      "cell_type": "code",
      "metadata": {
        "id": "jsoSVaoOIhcS"
      },
      "source": [
        "if youtube_dl_link.startswith(\"http\"):\n",
        "  print(f\"Downloading from {youtube_dl_link}...\")\n",
        "  !pip install -q youtube-dl\n",
        "  !youtube-dl --rm-cache-dir\n",
        "  !youtube-dl --extract-audio --audio-format wav {youtube_dl_link} --output /tmp/audio_file.wav\n",
        "  audio_file = \"/tmp/audio_file.wav\"\n",
        "  from glob import glob\n",
        "  print(glob(\"/tmp/*.wav\"))\n",
        "\n",
        "\n",
        "import librosa\n",
        "import librosa.display\n",
        "from matplotlib import pyplot as plt\n",
        "import numpy as np\n",
        "\n",
        "def specshow(spec):\n",
        "  fig, ax = plt.subplots()\n",
        "  img = librosa.display.specshow(spec, x_axis='time',\n",
        "                         y_axis='mel', sr=sr,\n",
        "                         fmax=8000, ax=ax)\n",
        "  plt.show()\n",
        "\n",
        "\n",
        "audio, sr = librosa.load(audio_file)\n",
        "audio = audio[start_second*sr:end_second*sr]\n",
        "spec = librosa.feature.melspectrogram(y=audio, sr=sr)[:,::2]\n",
        "specshow(spec)\n",
        "# spec_s = np.log(1 + spec*10)\n",
        "spec_s = librosa.amplitude_to_db(spec)\n",
        "spec_s = spec_s - spec_s.min()\n",
        "specshow(spec_s)\n",
        "\n",
        "seconds = len(audio) / sr\n",
        "frame_rate = spec_s.shape[1] / seconds"
      ],
      "execution_count": null,
      "outputs": []
    },
    {
      "cell_type": "code",
      "metadata": {
        "id": "DQJQPjfFQz45"
      },
      "source": [
        "def specshow(spec):\n",
        "  fig, ax = plt.subplots()\n",
        "  img = librosa.display.specshow(spec, x_axis='time',\n",
        "                         y_axis='mel', sr=sr,\n",
        "                         fmax=8000, ax=ax)\n",
        "  plt.show()\n",
        "  plt.figure(figsize=(15, 7))\n",
        "  ld = spec.sum(0)\n",
        "  plt.plot(ld)\n",
        "  plt.show()\n",
        "\n",
        "mids = spec_s[12:-35]\n",
        "\n",
        "bass = spec_s[:12]\n",
        "bass = bass - bass.mean()\n",
        "bass[bass<0] = 0\n",
        "\n",
        "treble = spec_s[-35:]\n",
        "treble = treble - treble.mean() / 2\n",
        "treble[treble<0] = 0\n",
        "\n",
        "specshow(bass)\n",
        "specshow(mids)\n",
        "specshow(treble)\n"
      ],
      "execution_count": null,
      "outputs": []
    },
    {
      "cell_type": "code",
      "metadata": {
        "id": "vAa2u4L3s-0_"
      },
      "source": [
        "def get_spec_slice(spec, i):\n",
        "  tsteps = spec.shape[1]\n",
        "  chapters = len(prompts) - 1\n",
        "  chapter_len = tsteps / chapters\n",
        "  start = int(i * chapter_len)\n",
        "  end = int((i+1) * chapter_len)\n",
        "  return spec[:,start:end]\n"
      ],
      "execution_count": null,
      "outputs": []
    },
    {
      "cell_type": "code",
      "metadata": {
        "id": "so1yHofG7RxX"
      },
      "source": [
        "#@title Licensed under the MIT License { display-mode: \"form\" }\n",
        "\n",
        "# Copyright (c) 2021 nshepperd; Katherine Crowson\n",
        "\n",
        "# Permission is hereby granted, free of charge, to any person obtaining a copy\n",
        "# of this software and associated documentation files (the \"Software\"), to deal\n",
        "# in the Software without restriction, including without limitation the rights\n",
        "# to use, copy, modify, merge, publish, distribute, sublicense, and/or sell\n",
        "# copies of the Software, and to permit persons to whom the Software is\n",
        "# furnished to do so, subject to the following conditions:\n",
        "\n",
        "# The above copyright notice and this permission notice shall be included in\n",
        "# all copies or substantial portions of the Software.\n",
        "\n",
        "# THE SOFTWARE IS PROVIDED \"AS IS\", WITHOUT WARRANTY OF ANY KIND, EXPRESS OR\n",
        "# IMPLIED, INCLUDING BUT NOT LIMITED TO THE WARRANTIES OF MERCHANTABILITY,\n",
        "# FITNESS FOR A PARTICULAR PURPOSE AND NONINFRINGEMENT. IN NO EVENT SHALL THE\n",
        "# AUTHORS OR COPYRIGHT HOLDERS BE LIABLE FOR ANY CLAIM, DAMAGES OR OTHER\n",
        "# LIABILITY, WHETHER IN AN ACTION OF CONTRACT, TORT OR OTHERWISE, ARISING FROM,\n",
        "# OUT OF OR IN CONNECTION WITH THE SOFTWARE OR THE USE OR OTHER DEALINGS IN\n",
        "# THE SOFTWARE."
      ],
      "execution_count": null,
      "outputs": []
    },
    {
      "cell_type": "code",
      "metadata": {
        "id": "rg_x6IdHv_2G"
      },
      "source": [
        "# Check GPU and CUDA\n",
        "!nvidia-smi\n",
        "!nvcc --version"
      ],
      "execution_count": null,
      "outputs": []
    },
    {
      "cell_type": "code",
      "metadata": {
        "id": "LIG45NGrhxWs"
      },
      "source": [
        "len(audio)/sr"
      ],
      "execution_count": null,
      "outputs": []
    },
    {
      "cell_type": "code",
      "metadata": {
        "id": "5K38uyFrv5wo"
      },
      "source": [
        "!pip install --upgrade torch==1.9.1+cu111 torchvision==0.10.1+cu111 -f https://download.pytorch.org/whl/torch_stable.html\n",
        "#!pip install --upgrade https://download.pytorch.org/whl/nightly/cu111/torch-1.11.0.dev20211012%2Bcu111-cp37-cp37m-linux_x86_64.whl https://download.pytorch.org/whl/nightly/cu111/torchvision-0.12.0.dev20211012%2Bcu111-cp37-cp37m-linux_x86_64.whl\n",
        "!git clone https://github.com/NVlabs/stylegan3\n",
        "!git clone https://github.com/openai/CLIP\n",
        "!pip install -e ./CLIP\n",
        "!pip install einops ninja"
      ],
      "execution_count": null,
      "outputs": []
    },
    {
      "cell_type": "code",
      "metadata": {
        "id": "FcXaXHqlwKft"
      },
      "source": [
        "import sys\n",
        "sys.path.append('./CLIP')\n",
        "sys.path.append('./stylegan3')\n",
        "\n",
        "import io\n",
        "import os, time\n",
        "import pickle\n",
        "import shutil\n",
        "import numpy as np\n",
        "from PIL import Image\n",
        "import torch\n",
        "import torch.nn.functional as F\n",
        "import requests\n",
        "import torchvision.transforms as transforms\n",
        "import torchvision.transforms.functional as TF\n",
        "import clip\n",
        "from tqdm.notebook import tqdm\n",
        "from torchvision.transforms import Compose, Resize, ToTensor, Normalize\n",
        "from IPython.display import display\n",
        "from einops import rearrange\n",
        "from google.colab import files"
      ],
      "execution_count": null,
      "outputs": []
    },
    {
      "cell_type": "code",
      "metadata": {
        "id": "2IJd9-jix7PJ"
      },
      "source": [
        "device = torch.device('cuda:0')\n",
        "print('Using device:', device, file=sys.stderr)\n",
        "torch.manual_seed(seed)"
      ],
      "execution_count": null,
      "outputs": []
    },
    {
      "cell_type": "code",
      "metadata": {
        "id": "1GOWJ_z-wgde"
      },
      "source": [
        "# Define necessary functions\n",
        "\n",
        "def fetch(url_or_path):\n",
        "    if str(url_or_path).startswith('http://') or str(url_or_path).startswith('https://'):\n",
        "        r = requests.get(url_or_path)\n",
        "        r.raise_for_status()\n",
        "        fd = io.BytesIO()\n",
        "        fd.write(r.content)\n",
        "        fd.seek(0)\n",
        "        return fd\n",
        "    return open(url_or_path, 'rb')\n",
        "\n",
        "def fetch_model(url_or_path):\n",
        "    basename = os.path.basename(url_or_path)\n",
        "    if os.path.exists(basename):\n",
        "        return basename\n",
        "    else:\n",
        "        !wget -N '{url_or_path}'\n",
        "        return basename\n",
        "\n",
        "def norm1(prompt):\n",
        "    \"Normalize to the unit sphere.\"\n",
        "    return prompt / prompt.square().sum(dim=-1,keepdim=True).sqrt()\n",
        "\n",
        "def spherical_dist_loss(x, y):\n",
        "    x = F.normalize(x, dim=-1)\n",
        "    y = F.normalize(y, dim=-1)\n",
        "    return (x - y).norm(dim=-1).div(2).arcsin().pow(2).mul(2)\n",
        "\n",
        "class MakeCutouts(torch.nn.Module):\n",
        "    def __init__(self, cut_size, cutn, cut_pow=1.):\n",
        "        super().__init__()\n",
        "        self.cut_size = cut_size\n",
        "        self.cutn = cutn\n",
        "        self.cut_pow = cut_pow\n",
        "\n",
        "    def forward(self, input):\n",
        "        sideY, sideX = input.shape[2:4]\n",
        "        max_size = min(sideX, sideY)\n",
        "        min_size = min(sideX, sideY, self.cut_size)\n",
        "        cutouts = []\n",
        "        for _ in range(self.cutn):\n",
        "            size = int(torch.rand([])**self.cut_pow * (max_size - min_size) + min_size)\n",
        "            offsetx = torch.randint(0, sideX - size + 1, ())\n",
        "            offsety = torch.randint(0, sideY - size + 1, ())\n",
        "            cutout = input[:, :, offsety:offsety + size, offsetx:offsetx + size]\n",
        "            cutouts.append(F.adaptive_avg_pool2d(cutout, self.cut_size))\n",
        "        return torch.cat(cutouts)\n",
        "\n",
        "make_cutouts = MakeCutouts(224, 32, 0.5)\n",
        "\n",
        "def embed_image(image):\n",
        "  n = image.shape[0]\n",
        "  cutouts = make_cutouts(image)\n",
        "  embeds = clip_model.embed_cutout(cutouts)\n",
        "  embeds = rearrange(embeds, '(cc n) c -> cc n c', n=n)\n",
        "  return embeds\n",
        "\n",
        "def embed_url(url):\n",
        "  image = Image.open(fetch(url)).convert('RGB')\n",
        "  return embed_image(TF.to_tensor(image).to(device).unsqueeze(0)).mean(0).squeeze(0)"
      ],
      "execution_count": null,
      "outputs": []
    },
    {
      "cell_type": "code",
      "metadata": {
        "id": "Mf-qYTcEzugv"
      },
      "source": [
        "class CLIP(object):\n",
        "  def __init__(self):\n",
        "    clip_model = \"ViT-B/32\"\n",
        "    self.model, _ = clip.load(clip_model)\n",
        "    self.model = self.model.requires_grad_(False)\n",
        "    self.normalize = transforms.Normalize(mean=[0.48145466, 0.4578275, 0.40821073],\n",
        "                                          std=[0.26862954, 0.26130258, 0.27577711])\n",
        "\n",
        "  @torch.no_grad()\n",
        "  def embed_text(self, prompt):\n",
        "      \"Normalized clip text embedding.\"\n",
        "      return norm1(self.model.encode_text(clip.tokenize(prompt).to(device)).float())\n",
        "\n",
        "  def embed_cutout(self, image):\n",
        "      \"Normalized clip image embedding.\"\n",
        "      return norm1(self.model.encode_image(self.normalize(image)))\n",
        "  \n",
        "clip_model = CLIP()"
      ],
      "execution_count": null,
      "outputs": []
    },
    {
      "cell_type": "code",
      "metadata": {
        "id": "rLxwdWMXwPXN"
      },
      "source": [
        "# Load stylegan model\n",
        "\n",
        "network_url = model_url\n",
        "\n",
        "with open(fetch_model(network_url), 'rb') as fp:\n",
        "  G = pickle.load(fp)['G_ema'].to(device)\n",
        "\n",
        "# # Fix the coordinate grid to w_avg\n",
        "# shift = G.synthesis.input.affine(G.mapping.w_avg.unsqueeze(0))\n",
        "# G.synthesis.input.affine.bias.data.add_(shift.squeeze(0))\n",
        "# G.synthesis.input.affine.weight.data.zero_()\n",
        "\n",
        "# # Arbitrary coordinate grid (dubious idea)\n",
        "# with torch.no_grad():\n",
        "#   grid = G.synthesis.input(G.mapping.w_avg.unsqueeze(0))\n",
        "#   def const(x):\n",
        "#     def f(w):\n",
        "#       n = w.shape[0]\n",
        "#       return x.broadcast_to([n, *x.shape[1:]])\n",
        "#     return f\n",
        "#   G.synthesis.input.forward = const(grid)\n",
        "# grid.requires_grad_()\n",
        "\n",
        "zs = torch.randn([10000, G.mapping.z_dim], device=device)\n",
        "w_stds = G.mapping(zs, None).std(0)"
      ],
      "execution_count": null,
      "outputs": []
    },
    {
      "cell_type": "code",
      "metadata": {
        "id": "V_rq-N2m0Tlb"
      },
      "source": [
        "# Get latents for start and end\n",
        "from functools import lru_cache\n",
        "\n",
        "\n",
        "tf = Compose([\n",
        "  Resize(224),\n",
        "  lambda x: torch.clamp((x+1)/2,min=0,max=1),\n",
        "  ])\n",
        "\n",
        "\n",
        "@lru_cache(maxsize=None)\n",
        "def get_latents_for(text_prompt):\n",
        "  target = clip_model.embed_text(text_prompt)\n",
        "  torch.manual_seed(seed)\n",
        "  timestring = time.strftime('%Y%m%d%H%M%S')\n",
        "\n",
        "  # Init\n",
        "  # Method 1: sample 32 inits and choose the one closest to prompt\n",
        "\n",
        "  with torch.no_grad():\n",
        "    qs = []\n",
        "    losses = []\n",
        "    for _ in range(8):\n",
        "      q = (G.mapping(torch.randn([4,G.mapping.z_dim], device=device), None, truncation_psi=0.7) - G.mapping.w_avg) / w_stds\n",
        "      images = G.synthesis(q * w_stds + G.mapping.w_avg)\n",
        "      embeds = embed_image(images.add(1).div(2))\n",
        "      loss = spherical_dist_loss(embeds, target).mean(0)\n",
        "      i = torch.argmin(loss)\n",
        "      qs.append(q[i])\n",
        "      losses.append(loss[i])\n",
        "    qs = torch.stack(qs)\n",
        "    losses = torch.stack(losses)\n",
        "    print(losses)\n",
        "    print(losses.shape, qs.shape)\n",
        "    i = torch.argmin(losses)\n",
        "    q = qs[i].unsqueeze(0).requires_grad_()\n",
        "\n",
        "  # Method 2: Random init depending only on the seed.\n",
        "\n",
        "  # q = (G.mapping(torch.randn([1,G.mapping.z_dim], device=device), None, truncation_psi=0.7) - G.mapping.w_avg) / w_stds\n",
        "  # q.requires_grad_()\n",
        "\n",
        "  # Sampling loop\n",
        "  q_ema = q\n",
        "  opt = torch.optim.AdamW([q], lr=0.1, betas=(0.0,0.999))\n",
        "  loop = tqdm(range(steps))\n",
        "  for i in loop:\n",
        "    opt.zero_grad()\n",
        "    w = q * w_stds\n",
        "    image = G.synthesis(w + G.mapping.w_avg, noise_mode='const')\n",
        "    embed = embed_image(image.add(1).div(2))\n",
        "    loss = spherical_dist_loss(embed, target).mean()\n",
        "    loss.backward()\n",
        "    opt.step()\n",
        "    loop.set_postfix(loss=loss.item(), q_magnitude=q.std().item())\n",
        "\n",
        "    # q_ema = q_ema * smoothing + q * (1-smoothing)\n",
        "    # image = G.synthesis(q_ema * w_stds + G.mapping.w_avg, noise_mode='const')\n",
        "\n",
        "  return (w + G.mapping.w_avg).detach()\n",
        "\n",
        "\n",
        "latent_bass = get_latents_for(text_prompt_bass)\n",
        "latent_treble = get_latents_for(text_prompt_treble)\n",
        "\n",
        "latent_story = [get_latents_for(prompt) for prompt in prompts]"
      ],
      "execution_count": null,
      "outputs": []
    },
    {
      "cell_type": "code",
      "metadata": {
        "id": "GJiZbCMJpPlJ"
      },
      "source": [
        "def slerp(val, low, high):\n",
        "  val = val[:,None]\n",
        "  shape = low.shape\n",
        "  low = low.reshape([low.shape[0], -1])\n",
        "  high = high.reshape([high.shape[0], -1])\n",
        "\n",
        "  low_ = low / torch.norm(low, dim=1, keepdim=True)\n",
        "  high_ = high / torch.norm(high, dim=1, keepdim=True)\n",
        "  omega = torch.arccos(torch.clip(torch.sum(low_*high_, axis=1, keepdim=True), -1, 1))\n",
        "  so = torch.sin(omega)\n",
        "  so = 0*low + 0*val + so # broadcast\n",
        "  slerped = (1.0-val) * low + val * high\n",
        "  slerped_1 = torch.sin((1.0-val)*omega) / so * low + torch.sin(val*omega) / so * high\n",
        "  slerped[so!=0] = slerped_1[so!=0]\n",
        "  return slerped.reshape([slerped.shape[0]] + list(shape[1:]))"
      ],
      "execution_count": null,
      "outputs": []
    },
    {
      "cell_type": "code",
      "metadata": {
        "id": "rMnMCC38pfd2"
      },
      "source": [
        "latent_chapters = []\n",
        "for chapter in range(len(prompts)-1):\n",
        "  latent_start = latent_story[chapter]\n",
        "  latent_end = latent_story[chapter + 1]\n",
        "  story_speed = get_spec_slice(bass, chapter).sum(0) * bass_story_speed \\\n",
        "              + get_spec_slice(mids, chapter).sum(0) * mids_story_speed \\\n",
        "              + get_spec_slice(treble, chapter).sum(0) * trebles_story_speed\n",
        "  print(story_speed.shape)\n",
        "  story_speed = story_speed / story_speed.sum()\n",
        "  progress = torch.tensor(story_speed.cumsum(0)).to(device)\n",
        "  latent_chapters.append(slerp(progress, latent_start, latent_end))\n",
        "\n",
        "latent_story = torch.cat(latent_chapters, dim=0)\n",
        "latent_story.shape"
      ],
      "execution_count": null,
      "outputs": []
    },
    {
      "cell_type": "code",
      "metadata": {
        "id": "TgMHPTGRPu_M"
      },
      "source": [
        "\n",
        "\n",
        "bright = treble.sum(0)\n",
        "bright = (bright - bright.min()) / (bright.max() - bright.min())\n",
        "bright = bright * trebles_pulse_impact\n",
        "bright = torch.tensor(bright).to(device)\n",
        "\n",
        "middle = mids.sum(0)\n",
        "middle = (middle - middle.min()) / (middle.max() - middle.min())\n",
        "middle = middle * bass_pulse_impact\n",
        "middle = torch.tensor(middle).to(device)\n",
        "\n",
        "deep = bass.sum(0)\n",
        "deep = (deep - deep.min()) / (deep.max() - deep.min())\n",
        "deep = deep * bass_pulse_impact\n",
        "deep = torch.tensor(deep).to(device)"
      ],
      "execution_count": null,
      "outputs": []
    },
    {
      "cell_type": "code",
      "metadata": {
        "id": "nvqymfrRSAqw"
      },
      "source": [
        "\n",
        "latent_story = slerp(bright, latent_story, latent_treble)\n",
        "# latent_story = slerp(middle, latent_story, latent_treble)\n",
        "latents = slerp(deep, latent_story, latent_bass)"
      ],
      "execution_count": null,
      "outputs": []
    },
    {
      "cell_type": "code",
      "metadata": {
        "id": "sXwmMqTdeN25"
      },
      "source": [
        "del clip\n",
        "del clip_model"
      ],
      "execution_count": null,
      "outputs": []
    },
    {
      "cell_type": "code",
      "metadata": {
        "id": "0b2WG2qATlgM"
      },
      "source": [
        "import torchvision"
      ],
      "execution_count": null,
      "outputs": []
    },
    {
      "cell_type": "code",
      "metadata": {
        "id": "a8RRad2Qh0bW"
      },
      "source": [
        "!rm -rf parts"
      ],
      "execution_count": null,
      "outputs": []
    },
    {
      "cell_type": "code",
      "metadata": {
        "id": "Qz_NEIKqjTea"
      },
      "source": [
        "os.makedirs(\"parts\", exist_ok=True)\n",
        "def write_frames(frames, start_id):\n",
        "  for offset in range(len(frames)):\n",
        "    frame_id = start_id + offset\n",
        "    TF.to_pil_image(frames[offset]).save(f'parts/output_{frame_id:08}.jpg')\n",
        "\n",
        "batch = 10\n",
        "start_frame = 0\n",
        "end_frame = batch\n",
        "part_id = 0\n",
        "while end_frame < len(latents):\n",
        "  frames = G.synthesis(latents[start_frame:end_frame], noise_mode='const').add(1).div(2).clamp(0,1).cpu().detach()\n",
        "  write_frames(frames, start_frame)\n",
        "  start_frame = end_frame\n",
        "  end_frame += batch"
      ],
      "execution_count": null,
      "outputs": []
    },
    {
      "cell_type": "code",
      "metadata": {
        "id": "iiFNrmXj_b90"
      },
      "source": [
        "\n",
        "import soundfile as sf\n",
        "sf.write(\"audio_cut.wav\", audio, sr)"
      ],
      "execution_count": null,
      "outputs": []
    },
    {
      "cell_type": "code",
      "metadata": {
        "id": "PwDd0un27geE"
      },
      "source": [
        "!rm *.avi\n",
        "!ffmpeg  -r {frame_rate} -i parts/%*.jpg -y -c:v libx264 vid_no_audio.avi\n",
        "!ffmpeg -i audio_cut.wav -i vid_no_audio.avi final_video.avi"
      ],
      "execution_count": null,
      "outputs": []
    },
    {
      "cell_type": "code",
      "metadata": {
        "id": "wM4BHq0GDF3Q"
      },
      "source": [
        "!ffmpeg -i final_video.avi -vf \"scale=trunc(iw/4)*2:trunc(ih/4)*2\" -c:v libx265 -crf 28 vid7.mkv"
      ],
      "execution_count": null,
      "outputs": []
    },
    {
      "cell_type": "code",
      "metadata": {
        "id": "Dnrej1MKA8vL"
      },
      "source": [
        "!mkdir {output_path}\n",
        "!cp final_video.avi {output_path}"
      ],
      "execution_count": null,
      "outputs": []
    },
    {
      "cell_type": "code",
      "metadata": {
        "id": "qlgH7g8omIMQ"
      },
      "source": [
        ""
      ],
      "execution_count": null,
      "outputs": []
    }
  ]
}